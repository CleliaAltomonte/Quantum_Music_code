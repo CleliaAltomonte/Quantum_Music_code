{
 "cells": [
  {
   "cell_type": "markdown",
   "metadata": {},
   "source": [
    "## Phase mappting: map Bloch sphere angles to notes"
   ]
  },
  {
   "cell_type": "code",
   "execution_count": 7,
   "metadata": {},
   "outputs": [
    {
     "name": "stdout",
     "output_type": "stream",
     "text": [
      "{0.0} <music21.stream.Part 0x1157138c0>\n",
      "    {0.0} <music21.instrument.Flute 'Flute'>\n",
      "    {0.0} <music21.note.Note G#>\n",
      "    {1.0} <music21.note.Note F#>\n",
      "    {2.0} <music21.note.Note G#>\n",
      "    {3.0} <music21.note.Note A>\n",
      "    {4.0} <music21.note.Note G#>\n",
      "    {5.0} <music21.note.Note C>\n",
      "{6.0} <music21.stream.Part 0x115710890>\n",
      "    {0.0} <music21.instrument.Violin 'Violin'>\n",
      "    {0.0} <music21.note.Note G#>\n",
      "    {1.0} <music21.note.Note F#>\n",
      "    {2.0} <music21.note.Note G#>\n",
      "    {3.0} <music21.note.Note D>\n",
      "    {4.0} <music21.note.Note G#>\n",
      "    {5.0} <music21.note.Note E>\n",
      "{12.0} <music21.stream.Part 0x1152c17f0>\n",
      "    {0.0} <music21.instrument.Guitar 'Guitar'>\n",
      "    {0.0} <music21.note.Note C>\n",
      "    {1.0} <music21.note.Note F#>\n",
      "    {2.0} <music21.note.Note C>\n",
      "    {3.0} <music21.note.Note F#>\n",
      "    {4.0} <music21.note.Note F>\n",
      "    {5.0} <music21.note.Note F#>\n"
     ]
    },
    {
     "data": {
      "text/plain": [
       "'quantum_music_bloch.mid'"
      ]
     },
     "execution_count": 7,
     "metadata": {},
     "output_type": "execute_result"
    }
   ],
   "source": [
    "import qiskit\n",
    "import numpy as np\n",
    "from qiskit.quantum_info import Statevector, partial_trace\n",
    "from music21 import stream, note, instrument\n",
    "\n",
    "# Convert a qubit's reduced state to Bloch sphere angles\n",
    "def state_to_bloch_angles(alpha, beta):\n",
    "    theta = 2 * np.arccos(np.abs(alpha))\n",
    "    phi = np.angle(beta) - np.angle(alpha)\n",
    "    return theta, phi\n",
    "\n",
    "# Convert Bloch angles to MIDI notes\n",
    "def theta_to_note(theta):\n",
    "    pitch = int((theta / np.pi) * 12)\n",
    "    return pitch + 60  # Middle C (C4)\n",
    "\n",
    "def phi_to_note(phi):\n",
    "    pitch = int(((phi + np.pi) / (2 * np.pi)) * 12)\n",
    "    return pitch + 72  # One octave above middle C\n",
    "\n",
    "# Assign instruments to qubits\n",
    "def qubit_to_instrument(index):\n",
    "    if index == 0:\n",
    "        return instrument.Flute()\n",
    "    instruments = [instrument.Piano(), instrument.Violin(), instrument.Guitar(),\n",
    "                   instrument.Clarinet(), instrument.Trumpet()]\n",
    "    return instruments[index % len(instruments)]\n",
    "\n",
    "# Apply gate to state using circuit reconstruction\n",
    "def apply_gate(state, gate, qargs, num_qubits):\n",
    "    temp_circuit = qiskit.QuantumCircuit(num_qubits)\n",
    "    temp_circuit.append(gate, [temp_circuit.qubits.index(q) for q in qargs])\n",
    "    return state.evolve(temp_circuit)\n",
    "\n",
    "# Main function: quantum circuit to music\n",
    "def circuit_to_music_explicit(circuit):\n",
    "    num_qubits = circuit.num_qubits\n",
    "    state = Statevector.from_label('0' * num_qubits)\n",
    "    qubit_states = {i: [] for i in range(num_qubits)}\n",
    "    music_score = stream.Score()\n",
    "\n",
    "    for inst, qargs, _ in circuit.data:\n",
    "        if inst.name == 'barrier':\n",
    "            # Record amplitudes at each barrier\n",
    "            for i in range(num_qubits):\n",
    "                # Use partial_trace to reduce the state for qubit i\n",
    "                reduced = partial_trace(state, [j for j in range(num_qubits) if j != i])\n",
    "                alpha, beta = reduced.data[0][0], reduced.data[1][0]\n",
    "                qubit_states[i].append((alpha, beta))\n",
    "        else:\n",
    "            state = apply_gate(state, inst, qargs, num_qubits)\n",
    "\n",
    "    # Convert each qubit's states into music\n",
    "    for i in range(num_qubits):\n",
    "        part = stream.Part()\n",
    "        part.insert(0, qubit_to_instrument(i))\n",
    "        for alpha, beta in qubit_states[i]:\n",
    "            theta, phi = state_to_bloch_angles(alpha, beta)\n",
    "            note_theta = note.Note(theta_to_note(theta), quarterLength=1)\n",
    "            note_phi = note.Note(phi_to_note(phi), quarterLength=1)\n",
    "            part.append([note_theta, note_phi])  # Play simultaneously\n",
    "        music_score.append(part)\n",
    "\n",
    "    return music_score, qubit_states\n",
    "\n",
    "# Example: build a sample circuit\n",
    "qc = qiskit.QuantumCircuit(3)\n",
    "qc.h(0)\n",
    "qc.cx(0, 1)\n",
    "qc.barrier()\n",
    "qc.rz(np.pi/4, 2)\n",
    "qc.ry(np.pi/2, 1)\n",
    "qc.rx(np.pi/3, 0)\n",
    "qc.barrier()\n",
    "qc.ccx(0, 1, 2)\n",
    "qc.barrier()\n",
    "\n",
    "\n",
    "# Generate the musical score\n",
    "music_score, qubit_states = circuit_to_music_explicit(qc)\n",
    "\n",
    "# Show the score or save it\n",
    "music_score.show('text')  # Opens MIDI playback in music21\n",
    "music_score.write('midi', fp='quantum_music_bloch.mid')  # Save to file if desired\n"
   ]
  },
  {
   "cell_type": "markdown",
   "metadata": {},
   "source": [
    "## magnitude based mapping"
   ]
  },
  {
   "cell_type": "code",
   "execution_count": 8,
   "metadata": {},
   "outputs": [],
   "source": [
    "def magnitude_to_note(magnitude, base_octave):\n",
    "    # Map [0, 1] -> MIDI note within an octave (12 semitones)\n",
    "    pitch = int(magnitude * 11)  # 0–11\n",
    "    return 12 * base_octave + pitch\n",
    "\n",
    "def circuit_to_music_magnitude(circuit):\n",
    "    num_qubits = circuit.num_qubits\n",
    "    state = Statevector.from_label('0' * num_qubits)\n",
    "    music_score = stream.Score()\n",
    "\n",
    "    for i in range(num_qubits):\n",
    "        part = stream.Part()\n",
    "        part.insert(0, qubit_to_instrument(i))\n",
    "        music_score.append(part)\n",
    "\n",
    "    for inst, qargs, _ in circuit.data:\n",
    "        if inst.name == 'barrier':\n",
    "            for i in range(num_qubits):\n",
    "                reduced = partial_trace(state, [j for j in range(num_qubits) if j != i])\n",
    "                alpha, beta = reduced.data[0][0], reduced.data[1][0]\n",
    "\n",
    "                mag_alpha = np.abs(alpha)\n",
    "                mag_beta = np.abs(beta)\n",
    "\n",
    "                note_alpha = note.Note(magnitude_to_note(mag_alpha, base_octave=4), quarterLength=1)\n",
    "                note_beta  = note.Note(magnitude_to_note(mag_beta, base_octave=5), quarterLength=1)\n",
    "\n",
    "                music_score[i].append([note_alpha, note_beta])\n",
    "        else:\n",
    "            state = apply_gate(state, inst, qargs, num_qubits)\n",
    "\n",
    "    return music_score\n"
   ]
  },
  {
   "cell_type": "code",
   "execution_count": 9,
   "metadata": {},
   "outputs": [
    {
     "name": "stdout",
     "output_type": "stream",
     "text": [
      "{0.0} <music21.stream.Part 0x1156d63f0>\n",
      "    {0.0} <music21.instrument.Flute 'Flute'>\n",
      "    {0.0} <music21.note.Note F>\n",
      "    {1.0} <music21.note.Note C>\n",
      "    {2.0} <music21.note.Note F>\n",
      "    {3.0} <music21.note.Note C>\n",
      "    {4.0} <music21.note.Note F>\n",
      "    {5.0} <music21.note.Note D>\n",
      "{0.0} <music21.stream.Part 0x1156d6120>\n",
      "    {0.0} <music21.instrument.Violin 'Violin'>\n",
      "    {0.0} <music21.note.Note F>\n",
      "    {1.0} <music21.note.Note C>\n",
      "    {2.0} <music21.note.Note F>\n",
      "    {3.0} <music21.note.Note C>\n",
      "    {4.0} <music21.note.Note F>\n",
      "    {5.0} <music21.note.Note D>\n",
      "{0.0} <music21.stream.Part 0x115713ce0>\n",
      "    {0.0} <music21.instrument.Guitar 'Guitar'>\n",
      "    {0.0} <music21.note.Note B->\n",
      "    {1.0} <music21.note.Note C>\n",
      "    {2.0} <music21.note.Note B->\n",
      "    {3.0} <music21.note.Note C>\n",
      "    {4.0} <music21.note.Note G#>\n",
      "    {5.0} <music21.note.Note C>\n"
     ]
    },
    {
     "data": {
      "text/plain": [
       "'quantum_music_magnitude.mid'"
      ]
     },
     "execution_count": 9,
     "metadata": {},
     "output_type": "execute_result"
    }
   ],
   "source": [
    "music_score = circuit_to_music_magnitude(qc)\n",
    "music_score.show('text')  # Opens MIDI playback in music21\n",
    "music_score.write('midi', fp='quantum_music_magnitude.mid')  # Save to file if desired"
   ]
  },
  {
   "cell_type": "markdown",
   "metadata": {},
   "source": [
    "## real/imaginary based mapping"
   ]
  },
  {
   "cell_type": "code",
   "execution_count": 10,
   "metadata": {},
   "outputs": [],
   "source": [
    "def value_to_note(val, base_octave):\n",
    "    # Map [-1, 1] to 0–11 then to note in an octave\n",
    "    normalized = (val + 1) / 2  # now in [0,1]\n",
    "    pitch = int(normalized * 11)\n",
    "    return 12 * base_octave + pitch\n",
    "\n",
    "def circuit_to_music_real_imag(circuit):\n",
    "    num_qubits = circuit.num_qubits\n",
    "    state = Statevector.from_label('0' * num_qubits)\n",
    "    music_score = stream.Score()\n",
    "\n",
    "    for i in range(num_qubits):\n",
    "        part = stream.Part()\n",
    "        part.insert(0, qubit_to_instrument(i))\n",
    "        music_score.append(part)\n",
    "\n",
    "    for inst, qargs, _ in circuit.data:\n",
    "        if inst.name == 'barrier':\n",
    "            for i in range(num_qubits):\n",
    "                reduced = partial_trace(state, [j for j in range(num_qubits) if j != i])\n",
    "                alpha, beta = reduced.data[0][0], reduced.data[1][0]\n",
    "\n",
    "                notes = [\n",
    "                    note.Note(value_to_note(np.real(alpha), base_octave=3), quarterLength=1),\n",
    "                    note.Note(value_to_note(np.imag(alpha), base_octave=4), quarterLength=1),\n",
    "                    note.Note(value_to_note(np.real(beta), base_octave=5), quarterLength=1),\n",
    "                    note.Note(value_to_note(np.imag(beta), base_octave=6), quarterLength=1),\n",
    "                ]\n",
    "\n",
    "                music_score[i].append(notes)  # all 4 play together\n",
    "        else:\n",
    "            state = apply_gate(state, inst, qargs, num_qubits)\n",
    "\n",
    "    return music_score"
   ]
  },
  {
   "cell_type": "code",
   "execution_count": 11,
   "metadata": {},
   "outputs": [
    {
     "data": {
      "text/plain": [
       "'quantum_music_re_imag.mid'"
      ]
     },
     "execution_count": 11,
     "metadata": {},
     "output_type": "execute_result"
    }
   ],
   "source": [
    "music_score = circuit_to_music_real_imag(qc)\n",
    "\n",
    "music_score.write('midi', fp='quantum_music_re_imag.mid')  # Save to file if desired"
   ]
  },
  {
   "cell_type": "code",
   "execution_count": null,
   "metadata": {},
   "outputs": [],
   "source": []
  }
 ],
 "metadata": {
  "kernelspec": {
   "display_name": "Python 3",
   "language": "python",
   "name": "python3"
  },
  "language_info": {
   "codemirror_mode": {
    "name": "ipython",
    "version": 3
   },
   "file_extension": ".py",
   "mimetype": "text/x-python",
   "name": "python",
   "nbconvert_exporter": "python",
   "pygments_lexer": "ipython3",
   "version": "3.12.4"
  }
 },
 "nbformat": 4,
 "nbformat_minor": 2
}
